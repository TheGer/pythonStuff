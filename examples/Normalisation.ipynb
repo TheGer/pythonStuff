{
 "cells": [
  {
   "cell_type": "code",
   "execution_count": 10,
   "metadata": {
    "collapsed": true
   },
   "outputs": [
    {
     "name": "stdout",
     "output_type": "stream",
     "text": [
      "[[0.69934015 0.08859459]\n",
      " [0.67353023 0.17567583]\n",
      " [0.40998849 0.62635407]]\n",
      "[[255.           0.        ]\n",
      " [244.2237801   36.35837313]\n",
      " [134.18917749 224.52667084]]\n"
     ]
    },
    {
     "data": {
      "text/plain": "<Figure size 432x288 with 1 Axes>",
      "image/png": "[encoded data removed]"
     },
     "metadata": {
      "needs_background": "light"
     },
     "output_type": "display_data"
    }
   ],
   "source": [
    "from PIL import Image #to convert matrix to image\n",
    "import matplotlib.pyplot as plt #to display image\n",
    "import matplotlib.cm as cm      #to display grayscale image\n",
    "import numpy as np\n",
    "import cv2\n",
    "\n",
    "# M = np.zeros((3,4))\n",
    "M = np.random.rand(3,2)\n",
    "\n",
    "print(M)\n",
    "M2= np.zeros(M.shape)\n",
    "\n",
    "cv2.normalize(M, M2, 0, 255, cv2.NORM_MINMAX)\n",
    "print(M2)\n",
    "\n",
    "plt.imshow(M2, cmap=cm.gray, vmin=0, vmax=255)\n",
    "plt.show()\n",
    "\n"
   ]
  },
  {
   "cell_type": "code",
   "execution_count": null,
   "outputs": [],
   "source": [],
   "metadata": {
    "collapsed": false,
    "pycharm": {
     "name": "#%%\n"
    }
   }
  }
 ],
 "metadata": {
  "kernelspec": {
   "display_name": "Python 3",
   "language": "python",
   "name": "python3"
  },
  "language_info": {
   "codemirror_mode": {
    "name": "ipython",
    "version": 2
   },
   "file_extension": ".py",
   "mimetype": "text/x-python",
   "name": "python",
   "nbconvert_exporter": "python",
   "pygments_lexer": "ipython2",
   "version": "2.7.6"
  }
 },
 "nbformat": 4,
 "nbformat_minor": 0
}