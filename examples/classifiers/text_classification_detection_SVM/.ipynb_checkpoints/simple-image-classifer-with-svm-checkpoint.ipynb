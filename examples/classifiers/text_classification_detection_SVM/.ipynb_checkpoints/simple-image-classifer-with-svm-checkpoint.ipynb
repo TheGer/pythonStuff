{
 "cells": [
  {
   "cell_type": "markdown",
   "metadata": {
    "_execution_state": "idle",
    "_uuid": "13eb4a61c2bf634232bf10f93803064ef0493b68"
   },
   "source": [
    "A simple example on how scikit-learn can be used to recognize images of hand-written digits. This tutorial is mainly taken from: http://scikit-learn.org/stable/auto_examples/classification/plot_digits_classification.html\n",
    "I was looking for a simple tutorial on image classification. i was directed to the above link and decided to make it into a more readable tutorial with links and more information, particularly on precision, recall, f1-score and the confusion matix. I do not take credit for this and I simply want to share this kernel as it may be useful for someone in the future."
   ]
  },
  {
   "cell_type": "code",
   "execution_count": 1,
   "metadata": {
    "_cell_guid": "8986f7cf-611d-4134-857e-1d4ec7ec7479",
    "_execution_state": "idle",
    "_uuid": "d83f34d78b635e92a9cc0a90bdb661ee87fe4c23"
   },
   "outputs": [],
   "source": [
    "# This Python 3 environment comes with many helpful analytics libraries installed\n",
    "# It is defined by the kaggle/python docker image: https://github.com/kaggle/docker-python\n",
    "# For example, here's several helpful packages to load in \n",
    "\n",
    "import numpy as np # linear algebra\n",
    "import pandas as pd # data processing, CSV file I/O (e.g. pd.read_csv)\n",
    "\n",
    "# Input data files are available in the \"../input/\" directory.\n",
    "# For example, running this (by clicking run or pressing Shift+Enter) will list the files in the input directory\n",
    "\n",
    "from subprocess import check_output\n",
    "#print(check_output([\"ls\", \"../input\"]).decode(\"utf8\"))\n",
    "\n",
    "# Any results you write to the current directory are saved as output."
   ]
  },
  {
   "cell_type": "code",
   "execution_count": 2,
   "metadata": {
    "_execution_state": "idle",
    "_uuid": "c336f74fc9736fb359689b91b2aa027311bd19bc"
   },
   "outputs": [],
   "source": [
    "# Standard scientific Python imports\n",
    "import matplotlib.pyplot as plt\n",
    "import numpy as np\n",
    "%matplotlib inline\n",
    "\n",
    "# Import datasets, classifiers and performance metrics\n",
    "from sklearn import datasets, svm, metrics"
   ]
  },
  {
   "cell_type": "markdown",
   "metadata": {
    "_execution_state": "idle",
    "_uuid": "ae16b5481cda1b526c7dd674b837e478d22ea1ef"
   },
   "source": [
    "The data that we are interested in is made of 8x8 images of digits, which is part of the sklearn datasets. First lets load and investigate the dataset. "
   ]
  },
  {
   "cell_type": "code",
   "execution_count": 3,
   "metadata": {
    "_execution_state": "idle",
    "_uuid": "9eba422657ea2ad8ab6c6e462d0ba213b3ebbd6b"
   },
   "outputs": [
    {
     "name": "stdout",
     "output_type": "stream",
     "text": [
      "Digits dataset keys \n",
      "dict_keys(['data', 'target', 'frame', 'feature_names', 'target_names', 'images', 'DESCR'])\n"
     ]
    }
   ],
   "source": [
    "# load the digits dataset\n",
    "digits = datasets.load_digits()\n",
    "print('Digits dataset keys \\n{}'.format(digits.keys()))"
   ]
  },
  {
   "cell_type": "code",
   "execution_count": 4,
   "metadata": {
    "_execution_state": "idle",
    "_uuid": "c49c968e666b7c87345e43c22025796d2292546a"
   },
   "outputs": [
    {
     "name": "stdout",
     "output_type": "stream",
     "text": [
      "dataset target name: \n",
      "[0 1 2 3 4 5 6 7 8 9]\n",
      "shape of datset: (1797, 64) \n",
      "and target: (1797,)\n",
      "shape of the images: (1797, 8, 8)\n"
     ]
    }
   ],
   "source": [
    "print('dataset target name: \\n{}'.format(digits.target_names))\n",
    "print('shape of datset: {} \\nand target: {}'.format(digits.data.shape, digits.target.shape))\n",
    "print('shape of the images: {}'.format(digits.images.shape))"
   ]
  },
  {
   "cell_type": "markdown",
   "metadata": {
    "_execution_state": "idle",
    "_uuid": "63635d82e25d73d74a03526563fa798986f0467e"
   },
   "source": [
    "We see that the dataset (digits.data) is composed of 1797 samples, with 64 features, where each feature is a single image pixel. The images have been flattened to a 1-d vector of size (64,). Each sample in the dataset corrsponds to a 'target' in digits.target i.e. the 'answer'.\n",
    "\n",
    "Let's have a look at the first 4 images, stored in the images attribute of the dataset. If we were working from image files, we could load them using matplotlib.pyplot.imread. Note that each image must have the same size. For these images, we know which digit they represent: it is given in the 'target' of the dataset.\n"
   ]
  },
  {
   "cell_type": "code",
   "execution_count": 8,
   "metadata": {
    "_execution_state": "idle",
    "_uuid": "8b22fe850a1e1885fbb331fc198cc92a3805fd11"
   },
   "outputs": [
    {
     "data": {
      "image/png": "[encoded data removed]",
      "text/plain": [
       "<Figure size 432x288 with 4 Axes>"
      ]
     },
     "metadata": {
      "needs_background": "light"
     },
     "output_type": "display_data"
    }
   ],
   "source": [
    "#plot the data, which is just the images flattened into a 1-d array\n",
    "for i in range(0,4):\n",
    "    plt.subplot(2, 4,i + 1)\n",
    "    plt.axis('off')\n",
    "    imside = int(np.sqrt(digits.data[i].shape[0]))\n",
    "    im1 = np.reshape(digits.data[i],(imside,imside))\n",
    "    plt.imshow(im1, cmap=plt.cm.gray_r, interpolation='nearest')\n",
    "    plt.title('Training: {}'.format(digits.target[i]))\n",
    "plt.show()"
   ]
  },
  {
   "cell_type": "code",
   "execution_count": 9,
   "metadata": {
    "_execution_state": "idle",
    "_uuid": "6a99318882b81a988a7407aaa26982579dc5cb15"
   },
   "outputs": [
    {
     "data": {
      "image/png": "[encoded data removed]",
      "text/plain": [
       "<Figure size 432x288 with 4 Axes>"
      ]
     },
     "metadata": {
      "needs_background": "light"
     },
     "output_type": "display_data"
    }
   ],
   "source": [
    "#the images are also included in the dataset as digits.images\n",
    "for i in range(0,4):\n",
    "    plt.subplot(2, 4,i + 1)\n",
    "    plt.axis('off')\n",
    "    plt.imshow(digits.images[i], cmap=plt.cm.gray_r, interpolation='nearest')\n",
    "    plt.title('Training: {}'.format(digits.target[i]))\n",
    "plt.show()"
   ]
  },
  {
   "cell_type": "code",
   "execution_count": 10,
   "metadata": {
    "_execution_state": "idle",
    "_uuid": "7777e27e86880f40da6418dd639bf843ee89a136"
   },
   "outputs": [],
   "source": [
    "#from here we will be using the images. First we should flatten the images\n",
    "n_samples = len(digits.images)\n",
    "data_images = digits.images.reshape((n_samples, -1))"
   ]
  },
  {
   "cell_type": "markdown",
   "metadata": {
    "_execution_state": "idle",
    "_uuid": "f0587132c7a3de33eb2c4a98defc68ff54afdf5b"
   },
   "source": [
    "Before apply a classifier to the data, let's split the data into a training set and a test set."
   ]
  },
  {
   "cell_type": "code",
   "execution_count": 11,
   "metadata": {
    "_execution_state": "idle",
    "_uuid": "2d35177842db3296007ae707bdebae2a051c893e"
   },
   "outputs": [
    {
     "name": "stdout",
     "output_type": "stream",
     "text": [
      "Training data and target sizes: \n",
      "(1347, 64), (1347,)\n",
      "Test data and target sizes: \n",
      "(450, 64), (450,)\n"
     ]
    }
   ],
   "source": [
    "from sklearn.model_selection import train_test_split\n",
    "X_train, X_test, y_train, y_test = train_test_split(data_images,digits.target)\n",
    "print('Training data and target sizes: \\n{}, {}'.format(X_train.shape,y_train.shape))\n",
    "print('Test data and target sizes: \\n{}, {}'.format(X_test.shape,y_test.shape))"
   ]
  },
  {
   "cell_type": "markdown",
   "metadata": {
    "_execution_state": "idle",
    "_uuid": "a5445b8dfdedaaea745776291d05ad060ee73090"
   },
   "source": [
    "At this point we are ready to train a machine learning classifier on the training data. For this first attempt we will be using the support vector machine classifer. For a decription on SVM: http://docs.opencv.org/2.4/doc/tutorials/ml/introduction_to_svm/introduction_to_svm.html and http://www.robots.ox.ac.uk/~az/lectures/ml/lect2.pdf and https://www.analyticsvidhya.com/blog/2015/10/understaing-support-vector-machine-example-code/"
   ]
  },
  {
   "cell_type": "code",
   "execution_count": 12,
   "metadata": {
    "_execution_state": "idle",
    "_uuid": "5a166c0023171a16d02ef410189d1859d39fad19"
   },
   "outputs": [
    {
     "data": {
      "text/plain": [
       "SVC(gamma=0.001)"
      ]
     },
     "execution_count": 12,
     "metadata": {},
     "output_type": "execute_result"
    }
   ],
   "source": [
    "# Create a classifier: a support vector classifier\n",
    "classifier = svm.SVC(gamma=0.001)\n",
    "#fit to the trainin data\n",
    "classifier.fit(X_train,y_train)"
   ]
  },
  {
   "cell_type": "code",
   "execution_count": 13,
   "metadata": {
    "_execution_state": "idle",
    "_uuid": "f4c7e7574c3a2a94c1450228c939f2f8d8ea336e"
   },
   "outputs": [],
   "source": [
    "# now to Now predict the value of the digit on the test data\n",
    "y_pred = classifier.predict(X_test)"
   ]
  },
  {
   "cell_type": "markdown",
   "metadata": {
    "_execution_state": "idle",
    "_uuid": "6223c2b27449fe3fd9280db6d99cd227fe4e470c"
   },
   "source": [
    "Now to compare the predicted values against the expected values of the test dataset using sklearn metrics.classification"
   ]
  },
  {
   "cell_type": "code",
   "execution_count": 14,
   "metadata": {
    "_execution_state": "idle",
    "_uuid": "3d238eeb6dc34d444eaae3c238e77839c9aba1ee"
   },
   "outputs": [
    {
     "name": "stdout",
     "output_type": "stream",
     "text": [
      "Classification report for classifier SVC(gamma=0.001):\n",
      "              precision    recall  f1-score   support\n",
      "\n",
      "           0       1.00      1.00      1.00        49\n",
      "           1       1.00      1.00      1.00        42\n",
      "           2       1.00      1.00      1.00        40\n",
      "           3       1.00      0.98      0.99        45\n",
      "           4       1.00      1.00      1.00        49\n",
      "           5       1.00      1.00      1.00        61\n",
      "           6       1.00      1.00      1.00        38\n",
      "           7       0.96      0.98      0.97        56\n",
      "           8       1.00      1.00      1.00        31\n",
      "           9       0.97      0.97      0.97        39\n",
      "\n",
      "    accuracy                           0.99       450\n",
      "   macro avg       0.99      0.99      0.99       450\n",
      "weighted avg       0.99      0.99      0.99       450\n",
      "\n",
      "\n"
     ]
    }
   ],
   "source": [
    "print(\"Classification report for classifier %s:\\n%s\\n\"\n",
    "      % (classifier, metrics.classification_report(y_test, y_pred)))"
   ]
  },
  {
   "cell_type": "markdown",
   "metadata": {
    "_execution_state": "idle",
    "_uuid": "9b1403cb7abc4585d44a09b5bb5bf8cd696a0c51"
   },
   "source": [
    "**precision** is the fraction of relevant instances among the retrieved instances and is defined as:\n",
    "\n",
    "precision = tp / (tp + fp)  or (true positives)/(prediced positives)\n",
    "\n",
    "**recall** is the fraction of relevant instances that have been retrieved over total relevant instances in the image, and is defined as \n",
    "\n",
    "recall = tp / (tp + fn) or (true positives)/(actual positives)\n",
    "\n",
    "Where, tp = true positives, fp = false positives anf fn = false negatives. Recall in this context is also referred to as the true positive rate or sensitivity, and precision is also referred to as positive predictive value (PPV). \n",
    "\n",
    "**f1-score**: is a measure of a test's accuracy. It considers both the precision and the recall to compute the score. The f1-score can be interpreted as a weighted average of the precision and recall, where an f1-score reaches its best value at 1 and worst at 0. \n",
    "\n",
    "The general formula is: 2.(precision.recall)/(precision+recall) \n",
    "\n",
    "The f1-score regulates bot precision and recall. \n",
    "\n",
    "References:\n",
    "https://en.wikipedia.org/wiki/Precision_and_recall\n",
    "\n",
    "https://en.wikipedia.org/wiki/F1_score\n",
    "\n",
    "Lecture 11 of Andrew Ng's coursera course (week 6)"
   ]
  },
  {
   "cell_type": "code",
   "execution_count": 15,
   "metadata": {
    "_execution_state": "idle",
    "_uuid": "ea4deeb1e8f6b3bf3bdce658cb7120efae0ae97d"
   },
   "outputs": [
    {
     "name": "stdout",
     "output_type": "stream",
     "text": [
      "Confusion matrix:\n",
      "[[49  0  0  0  0  0  0  0  0  0]\n",
      " [ 0 42  0  0  0  0  0  0  0  0]\n",
      " [ 0  0 40  0  0  0  0  0  0  0]\n",
      " [ 0  0  0 44  0  0  0  1  0  0]\n",
      " [ 0  0  0  0 49  0  0  0  0  0]\n",
      " [ 0  0  0  0  0 61  0  0  0  0]\n",
      " [ 0  0  0  0  0  0 38  0  0  0]\n",
      " [ 0  0  0  0  0  0  0 55  0  1]\n",
      " [ 0  0  0  0  0  0  0  0 31  0]\n",
      " [ 0  0  0  0  0  0  0  1  0 38]]\n"
     ]
    }
   ],
   "source": [
    "print(\"Confusion matrix:\\n%s\" % metrics.confusion_matrix(y_test, y_pred))"
   ]
  },
  {
   "cell_type": "markdown",
   "metadata": {
    "_execution_state": "idle",
    "_uuid": "8ff5204a570e257a2cc7906ed776481c455b8f1d"
   },
   "source": [
    "The confuson matrix for only one class, e.g. 1 = detections 0 = non-detections\n",
    "\n",
    "<pre>\n",
    "         Actual Class\n",
    "         |  1 | 0  |\n",
    "         |----|----|\n",
    "Pred   1 | tp | fp |\n",
    "Class ---|----|----|\n",
    "       0 | fn | tn |\n",
    "\n",
    "</pre>\n",
    "\n",
    "Thus for 3 classes (1, 2, 3) it is e.g. 1 = cats, 2 = dogs, 3 = bears\n",
    "\n",
    "<pre>\n",
    "         Actual Class\n",
    "         |  1 | 2  | 3  |\n",
    "         |----|----|----|\n",
    "Pred   1 | tp | f1 | f1 |  where f1 = false \"1\", f2 = false \"2\" and f3 = false \"3\"\n",
    "Class ---|----|----|----|\n",
    "       2 | f2 | tp | f2 |\n",
    "      ---|----|----|----|\n",
    "       3 | f3 | f3 | tp |\n",
    "</pre>\n",
    "\n",
    "Thus the diagonal in the above matrix shows the number of true positives for each class, while the off-diagonals are the number of elements the particular class has been misclassified (false positives)??\n"
   ]
  },
  {
   "cell_type": "markdown",
   "metadata": {
    "_execution_state": "idle",
    "_uuid": "6cb00bdc483c8a2267ff49e084f944b1af0010c7"
   },
   "source": [
    "**We have successfully trained our SVM classifier to detect handwritten images of digits. What next:**\n",
    "1. try different classifiers e.e. k-nearest neighbors, random forest, convolution neural networks \n",
    "2. apply to different image classification problems. See Kaggle or openML (https://www.openml.org/guide#!intro) for more datasets"
   ]
  }
 ],
 "metadata": {
  "kernelspec": {
   "display_name": "Python 3 (ipykernel)",
   "language": "python",
   "name": "python3"
  },
  "language_info": {
   "codemirror_mode": {
    "name": "ipython",
    "version": 3
   },
   "file_extension": ".py",
   "mimetype": "text/x-python",
   "name": "python",
   "nbconvert_exporter": "python",
   "pygments_lexer": "ipython3",
   "version": "3.9.7"
  }
 },
 "nbformat": 4,
 "nbformat_minor": 1
}
