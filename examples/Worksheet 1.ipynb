{
 "cells": [
  {
   "cell_type": "code",
   "execution_count": 2,
   "metadata": {
    "collapsed": true
   },
   "outputs": [],
   "source": [
    "#1.\tCreate a matrix M with values M = [2 4 6 8; 10 20 30 40; 5 10 15 20]\n",
    "import numpy as np #to handle matrices\n",
    "import matplotlib.pyplot as plt\n",
    "import matplotlib.cm as cm"
   ]
  },
  {
   "cell_type": "code",
   "execution_count": null,
   "outputs": [],
   "source": [
    "M = np.array ([[2,4,6,8] ,[10,20,30,40] ,[5 ,10 ,15,20]] , dtype ='uint8')\n",
    "print(M)\n",
    "plt.imshow(M, cmap=cm.gray, vmin=0, vmax=255)\n",
    "plt.show()"
   ],
   "metadata": {
    "collapsed": false,
    "pycharm": {
     "name": "#%%\n"
    }
   }
  },
  {
   "cell_type": "code",
   "execution_count": 15,
   "outputs": [
    {
     "name": "stdout",
     "output_type": "stream",
     "text": [
      "[30 40]\n"
     ]
    }
   ],
   "source": [
    "#2.\tGet the 2nd row of M by using the colon operator :\n",
    "print(M[1,:])"
   ],
   "metadata": {
    "collapsed": false,
    "pycharm": {
     "name": "#%%\n"
    }
   }
  },
  {
   "cell_type": "code",
   "execution_count": 16,
   "outputs": [
    {
     "name": "stdout",
     "output_type": "stream",
     "text": [
      "[ 8 40 20]\n"
     ]
    }
   ],
   "source": [
    "#3.\tGet the 4th column of M by using the colon operator :\n",
    "print(M[:,3])"
   ],
   "metadata": {
    "collapsed": false,
    "pycharm": {
     "name": "#%%\n"
    }
   }
  },
  {
   "cell_type": "code",
   "execution_count": 8,
   "outputs": [
    {
     "name": "stdout",
     "output_type": "stream",
     "text": [
      "[[ 2  4  6  8]\n",
      " [10 20 30 40]\n",
      " [ 5 10 15 20]]\n",
      "[[2 4 6 8]\n",
      " [0 0 0 0]\n",
      " [5 0 0 0]]\n"
     ]
    }
   ],
   "source": [
    "#4.\tAssign all elements of M greater than 9 the value 0\n",
    "#M[M > 9] = 0\n",
    "print(M)\n",
    "#or else\n",
    "shape = M.shape\n",
    "for x in range(0, shape[0]):\n",
    "    for y in range(0, shape[1]):\n",
    "        if M[x, y] > 9:\n",
    "            M[x, y] = 0\n",
    "print(M)"
   ],
   "metadata": {
    "collapsed": false,
    "pycharm": {
     "name": "#%%\n"
    }
   }
  },
  {
   "cell_type": "code",
   "execution_count": 19,
   "outputs": [
    {
     "name": "stdout",
     "output_type": "stream",
     "text": [
      "[[ 85 155  92 148]\n",
      " [ 97 107  24  88]\n",
      " [ 57 198  63   4]]\n"
     ]
    },
    {
     "data": {
      "text/plain": "<Figure size 432x288 with 1 Axes>",
      "image/png": "[encoded data removed]"
     },
     "metadata": {
      "needs_background": "light"
     },
     "output_type": "display_data"
    }
   ],
   "source": [
    "#5.\tCreate a matrix M2 of random integers (0-255) in the size of M.\n",
    "# Then display it as a grayscale image.\n",
    "\n",
    "M2 = np.random.randint(0,256, size=M.shape) #upper bound not inclusive\n",
    "print(M2)\n",
    "\n",
    "from PIL import Image #to convert matrix to image\n",
    "import matplotlib.pyplot as plt #to display image\n",
    "import matplotlib.cm as cm      #to display grayscale image\n",
    "\n",
    "plt.imshow(M2, cmap=cm.gray, vmin=0, vmax=255)\n",
    "plt.show()"
   ],
   "metadata": {
    "collapsed": false,
    "pycharm": {
     "name": "#%%\n"
    }
   }
  },
  {
   "cell_type": "code",
   "execution_count": 2,
   "outputs": [
    {
     "data": {
      "text/plain": "<Figure size 432x288 with 1 Axes>",
      "image/png": "[encoded data removed]"
     },
     "metadata": {
      "needs_background": "light"
     },
     "output_type": "display_data"
    }
   ],
   "source": [
    "#6.\tCreate an RGB image M3 of size 100 by 200 pixels.\n",
    "# Colour the left half orange and the right half blue.\n",
    "# Display the image and also save it.\n",
    "import numpy as np\n",
    "from PIL import Image\n",
    "import matplotlib.pyplot as plt\n",
    "\n",
    "M3 = np.zeros([100, 200, 3], dtype=np.uint8)\n",
    "M3[:,:100] = [255, 128, 0] #Orange left side\n",
    "M3[:,100:] = [0, 0, 255]   #Blue right side\n",
    "\n",
    "plt.imshow(M3)\n",
    "plt.show()\n",
    "\n",
    "Image.fromarray(M3).save(\"orange_blue.png\")"
   ],
   "metadata": {
    "collapsed": false,
    "pycharm": {
     "name": "#%%\n"
    }
   }
  },
  {
   "cell_type": "code",
   "execution_count": 4,
   "outputs": [
    {
     "data": {
      "text/plain": "<Figure size 432x288 with 1 Axes>",
      "image/png": "[encoded data removed]"
     },
     "metadata": {
      "needs_background": "light"
     },
     "output_type": "display_data"
    }
   ],
   "source": [
    "#7.\tCopy the code in 6. Name the matrix M4. Add to it such that the image\n",
    "# becomes RGBA, i.e. has a 4th channel (which is transparency). Experiment with\n",
    "# different transparency levels. What does 0 transparency mean?\n",
    "# What is the other extreme?\n",
    "\n",
    "import numpy as np\n",
    "from PIL import Image\n",
    "\n",
    "M4 = np.zeros([100, 200, 4], dtype=np.uint8)\n",
    "M4[:,:100] = [255, 128, 0, 255] #Orange left side\n",
    "M4[:,100:] = [0, 0, 255, 255]   #Blue right side\n",
    "\n",
    "# Set transparency depending on x position\n",
    "for x in range(200):\n",
    "    for y in range(100):\n",
    "        M4[y, x, 3] = x\n",
    "\n",
    "plt.imshow(M4)\n",
    "plt.show()\n",
    "Image.fromarray(M4).save('orange_blue_alpha.png')"
   ],
   "metadata": {
    "collapsed": false,
    "pycharm": {
     "name": "#%%\n"
    }
   }
  },
  {
   "cell_type": "code",
   "execution_count": null,
   "outputs": [],
   "source": [
    "\n",
    "\n",
    "\n"
   ],
   "metadata": {
    "collapsed": false,
    "pycharm": {
     "name": "#%%\n"
    }
   }
  }
 ],
 "metadata": {
  "kernelspec": {
   "name": "opencv-env",
   "language": "python",
   "display_name": "opencv-env"
  },
  "language_info": {
   "codemirror_mode": {
    "name": "ipython",
    "version": 2
   },
   "file_extension": ".py",
   "mimetype": "text/x-python",
   "name": "python",
   "nbconvert_exporter": "python",
   "pygments_lexer": "ipython2",
   "version": "2.7.6"
  }
 },
 "nbformat": 4,
 "nbformat_minor": 0
}