{
 "cells": [
  {
   "cell_type": "code",
   "execution_count": 2,
   "metadata": {
    "pycharm": {
     "name": "#%%\n"
    }
   },
   "outputs": [
    {
     "name": "stdout",
     "output_type": "stream",
     "text": [
      "1:1.7777777777777777\n",
      "16.0:9.0\n"
     ]
    }
   ],
   "source": [
    "\n",
    "\n",
    "def calculateAspectRatioDecimals(width,height):\n",
    "    div = width/height\n",
    "\n",
    "    return \"1:\"+str(div)\n",
    "\n",
    "print(calculateAspectRatioDecimals(1920,1080));\n",
    "\n",
    "\n",
    "#Task from lesson today\n",
    "#he he\n",
    "\n",
    "from math import gcd\n",
    "\n",
    "def calculateAspectRatio(width,height):\n",
    "    divisor = gcd(width,height)\n",
    "    firstnum = width/divisor\n",
    "    secondnum = height/divisor\n",
    "    return str(firstnum)+\":\"+str(secondnum)\n",
    "\n",
    "print(calculateAspectRatio(1920,1080))\n",
    "\n",
    "\n"
   ]
  },
  {
   "cell_type": "code",
   "execution_count": 20,
   "outputs": [
    {
     "name": "stdout",
     "output_type": "stream",
     "text": [
      "[[ 1  2  3  4]\n",
      " [ 5  6  7  8]\n",
      " [ 9 10 11 12]]\n",
      "1\n",
      "6\n",
      "12\n",
      "[1 2 3 4]\n",
      "[1 5 9]\n",
      "(3, 4)\n",
      "1\n",
      "2\n",
      "3\n",
      "4\n",
      "[4 3 2 1]\n",
      "[[ 4  3  2  1]\n",
      " [ 5  6  7  8]\n",
      " [ 9 10 11 12]]\n"
     ]
    }
   ],
   "source": [
    "#[1 2 3 4;5 6 7 8;9 10 11 12]\n",
    "\n",
    "import numpy as np\n",
    "\n",
    "MyMatrix = np.array([[1,2,3,4],[5,6,7,8],[9,10,11,12]],dtype='uint8')\n",
    "\n",
    "print(MyMatrix)\n",
    "\n",
    "\n",
    "print(MyMatrix[0,0])\n",
    "print(MyMatrix[1,1])\n",
    "print(MyMatrix[2,3])\n",
    "\n",
    "#get the whole first row using the colon operator\n",
    "print(MyMatrix[0,:])\n",
    "\n",
    "#get the whole first column\n",
    "print(MyMatrix[:,0])\n",
    "\n",
    "currentArrayShape = MyMatrix.shape\n",
    "print(currentArrayShape)\n",
    "\n",
    "#I want to get 1 2 3 4 to 4 3 2 1 in the first row\n",
    "\n",
    "for x in range(0,currentArrayShape[1]):\n",
    "    print(MyMatrix[0,x])\n",
    "\n",
    "#output the reversed array\n",
    "print(MyMatrix[0,::-1])\n",
    "\n",
    "#update the reversed array\n",
    "MyMatrix[0] = MyMatrix[0,::-1]\n",
    "\n",
    "\n",
    "#print the array with the reversed first row\n",
    "print(MyMatrix)\n",
    "\n",
    "#1. randomly shuffle rows and columns\n",
    "#this is for you to work out at home\n",
    "\n",
    "\n",
    "\n"
   ],
   "metadata": {
    "collapsed": false,
    "pycharm": {
     "name": "#%%\n"
    }
   }
  },
  {
   "cell_type": "code",
   "execution_count": 38,
   "outputs": [
    {
     "name": "stdout",
     "output_type": "stream",
     "text": [
      "[[0 0 0 0 0 0 0 0 0 0]\n",
      " [0 0 0 0 0 0 0 0 0 0]\n",
      " [0 0 0 0 0 0 0 0 0 0]\n",
      " [0 0 0 0 0 0 0 0 0 0]\n",
      " [0 0 0 0 0 0 0 0 0 0]\n",
      " [0 0 0 0 0 0 0 0 0 0]\n",
      " [0 0 0 0 0 0 0 0 0 0]\n",
      " [0 0 0 0 0 0 0 0 0 0]\n",
      " [0 0 0 0 0 0 0 0 0 0]\n",
      " [0 0 0 0 0 0 0 0 0 0]]\n",
      "[[247 211 105 181  10 162 172 235  85  91]\n",
      " [236 101  28  51 179 224 219 204 197 103]\n",
      " [206 239 126  30 123 150 153 214  27 104]\n",
      " [248 167  15  51 108 233  63  96  87  19]\n",
      " [234  75 144 141 196  60 170 158 243  66]\n",
      " [  9  20 167 123  83 132   8  37 154 127]\n",
      " [241 193  10  73 206 110 108 144 150  46]\n",
      " [ 30 158 214 126 163 208 109  16 245  53]\n",
      " [ 57 229 131  38  89  16  19 163 249 251]\n",
      " [254  20  68 225 237 252 176 102 142  40]]\n"
     ]
    },
    {
     "data": {
      "text/plain": "<Figure size 432x288 with 1 Axes>",
      "image/png": "[encoded data removed]"
     },
     "metadata": {
      "needs_background": "light"
     },
     "output_type": "display_data"
    },
    {
     "data": {
      "text/plain": "<Figure size 432x288 with 1 Axes>",
      "image/png": "[encoded data removed]"
     },
     "metadata": {
      "needs_background": "light"
     },
     "output_type": "display_data"
    }
   ],
   "source": [
    "#grayscale image, so we only need one value\n",
    "MyFirstImage = np.zeros([10,10],dtype='uint8')\n",
    "\n",
    "print(MyFirstImage)\n",
    "\n",
    "MyFirstImage = np.random.randint(0,256, size=MyFirstImage.shape)\n",
    "\n",
    "print(MyFirstImage)\n",
    "\n",
    "from PIL import Image\n",
    "import matplotlib.pyplot as plt\n",
    "\n",
    "import matplotlib.cm as cm\n",
    "\n",
    "\n",
    "\n",
    "plt.imshow(MyFirstImage,cmap=cm.gray,vmin=0,vmax=255)\n",
    "plt.show()\n",
    "\n",
    "#second image is in colour\n",
    "MySecondImage = np.zeros([10,10,3],dtype=np.uint8)\n",
    "\n",
    "#print(MySecondImage)\n",
    "\n",
    "MySecondImage = np.random.randint(0,255,size=MySecondImage.shape)\n",
    "\n",
    "plt.imshow(MySecondImage)\n",
    "plt.show()\n",
    "\n",
    "Image.fromarray(MySecondImage.astype(np.uint8)).save('gerry.png')\n",
    "\n"
   ],
   "metadata": {
    "collapsed": false,
    "pycharm": {
     "name": "#%%\n"
    }
   }
  },
  {
   "cell_type": "code",
   "execution_count": 2,
   "outputs": [
    {
     "data": {
      "text/plain": "<Figure size 432x288 with 1 Axes>",
      "image/png": "[encoded data removed]"
     },
     "metadata": {
      "needs_background": "light"
     },
     "output_type": "display_data"
    }
   ],
   "source": [
    "#Starting Histograms\n",
    "\n",
    "import numpy as np\n",
    "import matplotlib.pyplot as plt\n",
    "\n",
    "import matplotlib.cm as cm\n",
    "\n",
    "#creating an empty 100x100 image\n",
    "HistogramImage = np.zeros([100,100],dtype=np.uint8)\n",
    "\n",
    "plt.imshow(HistogramImage,cmap=cm.gray,vmin=0,vmax=255)\n",
    "plt.show()\n",
    "\n",
    "\n",
    "\n"
   ],
   "metadata": {
    "collapsed": false,
    "pycharm": {
     "name": "#%%\n"
    }
   }
  },
  {
   "cell_type": "markdown",
   "source": [],
   "metadata": {
    "collapsed": false
   }
  }
 ],
 "metadata": {
  "kernelspec": {
   "display_name": "Python 3",
   "language": "python",
   "name": "python3"
  },
  "language_info": {
   "codemirror_mode": {
    "name": "ipython",
    "version": 3
   },
   "file_extension": ".py",
   "mimetype": "text/x-python",
   "name": "python",
   "nbconvert_exporter": "python",
   "pygments_lexer": "ipython3",
   "version": "3.6.12"
  }
 },
 "nbformat": 4,
 "nbformat_minor": 1
}